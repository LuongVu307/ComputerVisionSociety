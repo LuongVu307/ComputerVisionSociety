{
 "cells": [
  {
   "cell_type": "code",
   "execution_count": null,
   "id": "3e7b7f5f-244b-40b4-8ae0-c644bfd41245",
   "metadata": {},
   "outputs": [],
   "source": [
    "import os\n",
    "import sys\n",
    "\n",
    "project_root = os.getcwd()\n",
    "while project_root.split(\"\\\\\")[-1].lower() not in  [\"computervisionsoc\", \"computervisionsociety\"]:\n",
    "    project_root = os.path.abspath(os.path.join(project_root, '..'))\n",
    "\n",
    "sys.path.append(project_root)"
   ]
  },
  {
   "cell_type": "code",
   "execution_count": null,
   "id": "d241d1f6-f858-46ba-a977-0912f55f5703",
   "metadata": {},
   "outputs": [],
   "source": [
    "from CV101.models import Sequential, load_model\n",
    "from CV101.optimizers import SGD, Momentum, RMSprop, Adam\n",
    "from CV101.metrics import accuracy, mae, precision, recall\n",
    "from CV101.layers import Dense, Conv2D, MaxPool2D, Dropout, BatchNormalization, Flatten\n",
    "from CV101.losses import MeanSquaredError, CategoricalCrossEntropy, BinaryCrossEntropy\n",
    "from CV101.activations import ReLU, LeakyReLU, ELU, Sigmoid, Tanh, Linear\n",
    "from CV101.initializers import HeInitializer, XavierInitializer\n",
    "from CV101.regularizers import regularizers"
   ]
  },
  {
   "cell_type": "code",
   "execution_count": null,
   "id": "c5f75292-76e9-4b89-9cca-1521d6a89db6",
   "metadata": {},
   "outputs": [],
   "source": [
    "import matplotlib.pyplot as plt\n",
    "import numpy as np\n",
    "import pandas as pd"
   ]
  },
  {
   "cell_type": "code",
   "execution_count": null,
   "id": "5f891426-3c62-473f-83b2-e14ce19b12f1",
   "metadata": {},
   "outputs": [],
   "source": [
    "from sklearn.preprocessing import OneHotEncoder, StandardScaler\n",
    "from sklearn.impute import SimpleImputer\n",
    "\n",
    "while os.getcwd().split(\"\\\\\")[-1].lower() not in [\"computervisionsoc\", \"computervisionsociety\"]:\n",
    "    os.chdir(\"..\")\n",
    "train = pd.read_csv(\"datasets\\\\titanic\\\\train.csv\", index_col=\"PassengerId\")\n",
    "\n",
    "train.drop(columns=[\"Ticket\", \"Cabin\", \"Name\"], inplace=True)\n",
    "\n",
    "cleaned = train.dropna()\n",
    "\n",
    "encoder = OneHotEncoder(sparse_output=False)\n",
    "encoded = np.array(encoder.fit_transform(cleaned[[\"Sex\", \"Embarked\"]]))\n",
    "encoded_name = encoder.get_feature_names_out([\"Sex\", \"Embarked\"])\n",
    "\n",
    "\n",
    "encoded_df = pd.DataFrame(encoded, columns=encoded_name, index=cleaned.index)\n",
    "\n",
    "\n",
    "training = pd.concat([cleaned, encoded_df], axis=1)\n",
    "training.drop(columns=[\"Sex\", \"Embarked\"], inplace=True)\n",
    "\n",
    "X_train = training.drop(columns=[\"Survived\"])\n",
    "y_train = training[[\"Survived\"]].copy()\n",
    "\n",
    "X, y, X_val, y_val = X_train[:600], y_train[:600], X_train[600:], y_train[600:]\n",
    "X.shape, y.shape, X_val.shape, y_val.shape"
   ]
  },
  {
   "cell_type": "markdown",
   "id": "b4e2b608-9d17-4aa6-b289-8833b36e409a",
   "metadata": {},
   "source": [
    "## 1. Gradient Vanishing"
   ]
  },
  {
   "cell_type": "code",
   "execution_count": null,
   "id": "94f366be-8082-47f5-8157-04b32cc82a0e",
   "metadata": {},
   "outputs": [],
   "source": [
    "model = Sequential()\n",
    "model.add(Dense(32, activation=Tanh(), initializer=XavierInitializer(mode=\"uniform\")))\n",
    "model.add(Dense(32, activation=Tanh(), initializer=XavierInitializer(mode=\"uniform\")))\n",
    "model.add(Dense(32, activation=Sigmoid(), initializer=XavierInitializer(mode=\"uniform\")))\n",
    "model.add(Dense(32, activation=Tanh(), initializer=XavierInitializer(mode=\"uniform\")))\n",
    "model.add(Dense(32, activation=Sigmoid(), initializer=XavierInitializer(mode=\"uniform\")))\n",
    "model.add(Dense(32, activation=Sigmoid(), initializer=XavierInitializer(mode=\"uniform\")))\n",
    "model.add(Dense(32, activation=Tanh(), initializer=XavierInitializer(mode=\"uniform\")))\n",
    "model.add(Dense(10, activation=Sigmoid(), initializer=XavierInitializer(mode=\"uniform\")))\n",
    "model.add(Dense(1, activation=Sigmoid(), initializer=XavierInitializer(mode=\"uniform\")))\n",
    "\n",
    "\n",
    "model.compile(loss=BinaryCrossEntropy(), optimizer=Adam(learning_rate=1e-6))"
   ]
  },
  {
   "cell_type": "code",
   "execution_count": null,
   "id": "a597bb46-a4f9-4f0f-910c-e54b944ce7a1",
   "metadata": {},
   "outputs": [],
   "source": [
    "model.predict(X)[:10]"
   ]
  },
  {
   "cell_type": "code",
   "execution_count": null,
   "id": "a2888784-2ae4-403e-949a-48631a32de2d",
   "metadata": {
    "scrolled": true
   },
   "outputs": [],
   "source": [
    "model.fit(X, y, epoch=10)"
   ]
  },
  {
   "cell_type": "code",
   "execution_count": null,
   "id": "6b5a9651-c8a1-49a0-82cc-7d1f75939fb2",
   "metadata": {},
   "outputs": [],
   "source": [
    "def plot_W(model):\n",
    "    plt.figure(figsize=(20, 15))\n",
    "    length = len(model.layers)\n",
    "    for count, layer in enumerate(model.layers):\n",
    "        W = layer.W\n",
    "        plt.subplot(length//3+2, 3, count+1)\n",
    "        plt.hist(W.reshape(-1))\n",
    "\n",
    "    mean_val = [np.mean(np.abs((layer.dW))) for layer in model.layers]\n",
    "    plt.subplot(length//3+2, 3, length+1)\n",
    "    plt.plot(mean_val)\n",
    "    \n",
    "    \n",
    "    plt.show()\n",
    "\n",
    "plot_W(model)"
   ]
  },
  {
   "cell_type": "code",
   "execution_count": null,
   "id": "fb457ca0-f29b-45a7-ab54-d657de64e80f",
   "metadata": {
    "scrolled": true
   },
   "outputs": [],
   "source": [
    "model.fit(X, y, epoch=1000)"
   ]
  },
  {
   "cell_type": "code",
   "execution_count": null,
   "id": "9a6f0fc3-a1d4-4622-95f7-54784e978e56",
   "metadata": {},
   "outputs": [],
   "source": [
    "plot_W(model)"
   ]
  },
  {
   "cell_type": "markdown",
   "id": "61299242-a57d-4bec-818c-56499fa58881",
   "metadata": {},
   "source": [
    "## 2. Gradient exploding"
   ]
  },
  {
   "cell_type": "code",
   "execution_count": null,
   "id": "60f0a828-abb5-4d51-83a3-d10b22c5aa42",
   "metadata": {},
   "outputs": [],
   "source": [
    "model = Sequential()\n",
    "model.add(Dense(40, activation=ReLU()))\n",
    "model.add(Dense(40, activation=ReLU()))\n",
    "model.add(Dense(40, activation=ReLU()))\n",
    "model.add(Dense(40, activation=ReLU()))\n",
    "model.add(Dense(40, activation=ReLU()))\n",
    "model.add(Dense(40, activation=ReLU()))\n",
    "model.add(Dense(32, activation=ReLU()))\n",
    "model.add(Dense(10, activation=ReLU()))\n",
    "model.add(Dense(1, activation=Sigmoid()))\n",
    "\n",
    "\n",
    "model.compile(loss=BinaryCrossEntropy(), optimizer=Adam(learning_rate=1e-2))"
   ]
  },
  {
   "cell_type": "code",
   "execution_count": null,
   "id": "facb1c82-cc65-42bd-ab01-5d5eccf8d573",
   "metadata": {},
   "outputs": [],
   "source": [
    "model.predict(X)[:10]"
   ]
  },
  {
   "cell_type": "code",
   "execution_count": null,
   "id": "62bb77c6-0b5c-4ec7-b561-0db93f8699c8",
   "metadata": {},
   "outputs": [],
   "source": [
    "model.fit(X, y, epoch=1)"
   ]
  },
  {
   "cell_type": "code",
   "execution_count": null,
   "id": "bac8c056-2679-4849-b0f7-c7f1ec4817b9",
   "metadata": {},
   "outputs": [],
   "source": [
    "plot_W(model)"
   ]
  },
  {
   "cell_type": "code",
   "execution_count": null,
   "id": "21e45d9b-574c-4009-8047-da8a9aedae9a",
   "metadata": {
    "scrolled": true
   },
   "outputs": [],
   "source": [
    "model.fit(X, y, epoch=1000)"
   ]
  },
  {
   "cell_type": "code",
   "execution_count": null,
   "id": "311ee838-cded-4e3e-9849-ffd2e73e54b1",
   "metadata": {
    "scrolled": true
   },
   "outputs": [],
   "source": [
    "plot_W(model)"
   ]
  },
  {
   "cell_type": "markdown",
   "id": "41f6a102-7992-4c6b-ba5a-629e8bbc1393",
   "metadata": {},
   "source": [
    "## 3. Overfitting"
   ]
  },
  {
   "cell_type": "code",
   "execution_count": null,
   "id": "baa94a29-8c6d-4b6a-80fa-8ea4e49f35c5",
   "metadata": {},
   "outputs": [],
   "source": [
    "model = Sequential()\n",
    "model.add(Dense(256, activation=ReLU(), initializer=HeInitializer(mode=\"Normal\")))\n",
    "model.add(Dense(128, activation=ReLU(), initializer=HeInitializer(mode=\"Normal\")))\n",
    "model.add(Dense(64, activation=ReLU(), initializer=HeInitializer(mode=\"Normal\")))\n",
    "model.add(Dense(32, activation=ReLU(), initializer=HeInitializer(mode=\"Normal\")))\n",
    "model.add(Dense(10, activation=ReLU(), initializer=HeInitializer(mode=\"Normal\")))\n",
    "model.add(Dense(1, activation=Sigmoid(), initializer=XavierInitializer(mode=\"Normal\")))\n",
    "\n",
    "\n",
    "model.compile(loss=BinaryCrossEntropy(), optimizer=Adam(learning_rate=1e-4), metrics=[accuracy])"
   ]
  },
  {
   "cell_type": "code",
   "execution_count": null,
   "id": "9b4c69a0-7e24-47be-adc6-fb981ab85629",
   "metadata": {},
   "outputs": [],
   "source": [
    "model.predict(X)[:10]"
   ]
  },
  {
   "cell_type": "code",
   "execution_count": null,
   "id": "2aae4408-e87c-4702-a9d2-7a51ccccef5c",
   "metadata": {
    "scrolled": true
   },
   "outputs": [],
   "source": [
    "model.fit(X, y, epoch=1000, validation_data = [X_val, y_val])"
   ]
  },
  {
   "cell_type": "code",
   "execution_count": null,
   "id": "53b9d46d-4863-4b82-a0e7-6ce372d981c3",
   "metadata": {},
   "outputs": [],
   "source": [
    "def plot_metric(model):\n",
    "    plt.figure(figsize=(20, 10))\n",
    "    length = len(model.hist)\n",
    "    for count, metric in enumerate(model.hist):\n",
    "        train_metric = model.hist[metric][\"train\"]\n",
    "        val_metric = model.hist[metric][\"val\"]\n",
    "    \n",
    "        plt.subplot(length//2 + 1, 2, count+1)\n",
    "\n",
    "        plt.xlabel(\"Epochs\")\n",
    "        plt.ylabel(metric)\n",
    "        plt.title(f\"{metric} over epochs\")\n",
    "        \n",
    "        plt.plot(train_metric, label=\"training\")\n",
    "        plt.plot(val_metric, label=\"validation\")\n",
    "\n",
    "        plt.legend()\n",
    "    \n",
    "    plt.show()\n",
    "\n",
    "plot_metric(model)"
   ]
  },
  {
   "cell_type": "markdown",
   "id": "d9b9dc2e-a4dd-4c30-bafc-5b882b3254fd",
   "metadata": {},
   "source": [
    "## 4. Underfitting"
   ]
  },
  {
   "cell_type": "code",
   "execution_count": null,
   "id": "697177c7-0727-41b3-a545-6f8b6d76c080",
   "metadata": {},
   "outputs": [],
   "source": [
    "model = Sequential()\n",
    "\n",
    "model.add(Dense(1, activation=Sigmoid()))\n",
    "\n",
    "model.compile(loss=BinaryCrossEntropy(), optimizer=SGD(learning_rate=5e-2), metrics=[accuracy])"
   ]
  },
  {
   "cell_type": "code",
   "execution_count": null,
   "id": "d2b1a4d3-7bdf-4a3c-bbf9-6833734d868e",
   "metadata": {},
   "outputs": [],
   "source": [
    "model.predict(X)[:10]"
   ]
  },
  {
   "cell_type": "code",
   "execution_count": null,
   "id": "ed120116-bac3-49aa-ba80-adbe009f1af5",
   "metadata": {
    "scrolled": true
   },
   "outputs": [],
   "source": [
    "model.fit(X, y, epoch=1000, validation_data=[X_val, y_val])"
   ]
  },
  {
   "cell_type": "code",
   "execution_count": null,
   "id": "36809101-566e-49fe-8a25-e7b9ad07c621",
   "metadata": {},
   "outputs": [],
   "source": [
    "plot_metric(model)"
   ]
  },
  {
   "cell_type": "markdown",
   "id": "caf68557-e6d6-4f9b-8be6-af97780fc8d5",
   "metadata": {},
   "source": [
    "## 5. Slow convergence"
   ]
  },
  {
   "cell_type": "code",
   "execution_count": null,
   "id": "fb55eee4-7fc6-4638-a970-f7ce2a6c9863",
   "metadata": {},
   "outputs": [],
   "source": [
    "model = Sequential()\n",
    "\n",
    "model.add(Dense(64, activation=ReLU()))\n",
    "model.add(Dense(10, activation=ReLU()))\n",
    "model.add(Dense(1, activation=Sigmoid()))\n",
    "\n",
    "\n",
    "model.compile(loss=BinaryCrossEntropy(), optimizer=SGD(learning_rate=1e-6), metrics=[accuracy])"
   ]
  },
  {
   "cell_type": "code",
   "execution_count": null,
   "id": "5badc293-3c7d-41cf-bd50-d912f00d791d",
   "metadata": {},
   "outputs": [],
   "source": [
    "model.predict(X)[:10]"
   ]
  },
  {
   "cell_type": "code",
   "execution_count": null,
   "id": "55b18971-6edf-4dce-8dc0-20441b4bfd1a",
   "metadata": {
    "scrolled": true
   },
   "outputs": [],
   "source": [
    "model.fit(X, y, epoch=1000, validation_data=[X_val, y_val])"
   ]
  },
  {
   "cell_type": "code",
   "execution_count": null,
   "id": "52f0e6b0-29e8-4dce-80d0-1f26a95a2eb6",
   "metadata": {},
   "outputs": [],
   "source": [
    "plot_metric(model)"
   ]
  },
  {
   "cell_type": "markdown",
   "id": "f2246b5a-429c-4649-bfdb-486c63849738",
   "metadata": {},
   "source": [
    "## 6. Correct Version?"
   ]
  },
  {
   "cell_type": "code",
   "execution_count": null,
   "id": "5f1ff8ca-fc8a-4cdd-b5f5-8c618162bc66",
   "metadata": {},
   "outputs": [],
   "source": [
    "model = Sequential()\n",
    "model.add(Dense(32, activation=ReLU(), initializer=HeInitializer(mode=\"normal\")))\n",
    "model.add(Dense(10, activation=ReLU(), initializer=HeInitializer(mode=\"normal\")))\n",
    "# model.add(Dropout(0.5))\n",
    "model.add(Dense(1, activation=Sigmoid(), initializer=XavierInitializer(mode=\"uniform\")))\n",
    "\n",
    "\n",
    "model.compile(loss=BinaryCrossEntropy(), optimizer=Adam(learning_rate=1e-4), metrics=[accuracy])"
   ]
  },
  {
   "cell_type": "code",
   "execution_count": null,
   "id": "5254dbae-8db2-4503-a900-70438421040d",
   "metadata": {},
   "outputs": [],
   "source": [
    "model.predict(X)[:10]"
   ]
  },
  {
   "cell_type": "code",
   "execution_count": null,
   "id": "8c0bc46e-6afd-4cfc-908e-cecd46b0e34e",
   "metadata": {},
   "outputs": [],
   "source": [
    "model.evaluate(X_val, y_val)"
   ]
  },
  {
   "cell_type": "code",
   "execution_count": null,
   "id": "9da7880b-d061-42c0-960f-470b43be24f0",
   "metadata": {},
   "outputs": [],
   "source": [
    "model.fit(X, y, epoch=1)"
   ]
  },
  {
   "cell_type": "code",
   "execution_count": null,
   "id": "21134ad8-cb77-4749-b0fa-3b3147994e56",
   "metadata": {},
   "outputs": [],
   "source": [
    "plot_W(model)"
   ]
  },
  {
   "cell_type": "code",
   "execution_count": null,
   "id": "37f7553b-21a9-473d-a809-004945e8c214",
   "metadata": {
    "scrolled": true
   },
   "outputs": [],
   "source": [
    "model.fit(X, y, validation_data=[X_val, y_val], epoch=2000, batch_size=32, shuffle=True)"
   ]
  },
  {
   "cell_type": "code",
   "execution_count": null,
   "id": "94cc2e65-cd3a-41e8-adb6-5295fa74c52a",
   "metadata": {},
   "outputs": [],
   "source": [
    "plot_metric(model)"
   ]
  },
  {
   "cell_type": "code",
   "execution_count": null,
   "id": "815e9159-f23c-4532-a9aa-5a300377c617",
   "metadata": {},
   "outputs": [],
   "source": [
    "model.evaluate(X_val, y_val)"
   ]
  }
 ],
 "metadata": {
  "kernelspec": {
   "display_name": "Python 3 (ipykernel)",
   "language": "python",
   "name": "python3"
  },
  "language_info": {
   "codemirror_mode": {
    "name": "ipython",
    "version": 3
   },
   "file_extension": ".py",
   "mimetype": "text/x-python",
   "name": "python",
   "nbconvert_exporter": "python",
   "pygments_lexer": "ipython3",
   "version": "3.8.20"
  }
 },
 "nbformat": 4,
 "nbformat_minor": 5
}
