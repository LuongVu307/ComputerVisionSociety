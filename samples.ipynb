{
 "cells": [
  {
   "cell_type": "code",
   "execution_count": null,
   "id": "e0a06ef4-7213-4082-ab98-0fb69f2b4c2c",
   "metadata": {},
   "outputs": [],
   "source": [
    "import numpy as np\n",
    "import matplotlib.pyplot as plt\n",
    "import pandas as pd\n",
    "import os\n",
    "import random\n",
    "\n",
    "from CV101.models import Sequential, load_model\n",
    "from CV101.optimizers import SGD, Momentum, RMSprop, Adam\n",
    "from CV101.metrics import accuracy, mae, precision, recall\n",
    "from CV101.layers import Dense, Conv2D, MaxPool2D, Dropout, BatchNormalization, Flatten\n",
    "from CV101.losses import MeanSquaredError, CategoricalCrossEntropy, BinaryCrossEntropy\n",
    "from CV101.activations import ReLU, LeakyReLU, ELU, Sigmoid, Tanh, Linear\n",
    "from CV101.initializers import HeInitializer, XavierInitializer\n",
    "from CV101.regularizers import regularizers"
   ]
  },
  {
   "cell_type": "markdown",
   "id": "2a34aa56-9d60-4224-a202-ff3f05b202e2",
   "metadata": {
    "jp-MarkdownHeadingCollapsed": true
   },
   "source": [
    "# 1. Titanic"
   ]
  },
  {
   "cell_type": "markdown",
   "id": "4480677a-349e-4e13-b114-8e5c3a78d811",
   "metadata": {},
   "source": [
    "## 1.1 Preprocessing"
   ]
  },
  {
   "cell_type": "code",
   "execution_count": null,
   "id": "c13293ba-27c5-4953-a4b7-bf7119048a1f",
   "metadata": {},
   "outputs": [],
   "source": [
    "from sklearn.preprocessing import OneHotEncoder, StandardScaler\n",
    "from sklearn.impute import SimpleImputer\n"
   ]
  },
  {
   "cell_type": "code",
   "execution_count": null,
   "id": "65e6998c-76a0-4560-b079-33173cb142cd",
   "metadata": {},
   "outputs": [],
   "source": [
    "while os.getcwd().split(\"\\\\\")[-1].lower() not in [\"computervisionsoc\", \"computervisionsociety\"]:\n",
    "    os.chdir(\"..\")\n",
    "\n",
    "os.getcwd()"
   ]
  },
  {
   "cell_type": "code",
   "execution_count": null,
   "id": "d925c5f5-eb1c-47a7-971c-57f8687c1594",
   "metadata": {},
   "outputs": [],
   "source": [
    "train = pd.read_csv(\"datasets\\\\titanic\\\\train.csv\", index_col=\"PassengerId\")\n",
    "train.head()"
   ]
  },
  {
   "cell_type": "code",
   "execution_count": null,
   "id": "30511726-6606-49cb-80d8-fe225a051f9d",
   "metadata": {},
   "outputs": [],
   "source": [
    "train.info()"
   ]
  },
  {
   "cell_type": "code",
   "execution_count": null,
   "id": "63db1be7-4e69-4b10-8362-1fb1a2a3ab9d",
   "metadata": {},
   "outputs": [],
   "source": [
    "train.drop(columns=[\"Ticket\", \"Cabin\", \"Name\"], inplace=True)"
   ]
  },
  {
   "cell_type": "code",
   "execution_count": null,
   "id": "4eceb258-0626-4d62-99f4-b918491ae6c5",
   "metadata": {},
   "outputs": [],
   "source": [
    "train.info()"
   ]
  },
  {
   "cell_type": "code",
   "execution_count": null,
   "id": "fcacec22-9a1b-46e3-b9f3-895505749afb",
   "metadata": {},
   "outputs": [],
   "source": [
    "train.isna().sum()"
   ]
  },
  {
   "cell_type": "code",
   "execution_count": null,
   "id": "d808e53d-a1ae-440c-b2a9-206646f377df",
   "metadata": {},
   "outputs": [],
   "source": [
    "train.Embarked.value_counts()"
   ]
  },
  {
   "cell_type": "code",
   "execution_count": null,
   "id": "bc650654-38d2-4071-afb0-20817fe47bcd",
   "metadata": {},
   "outputs": [],
   "source": [
    "train.info()"
   ]
  },
  {
   "cell_type": "code",
   "execution_count": null,
   "id": "df1ce2b0-8f71-419f-b7fb-df0c224e2590",
   "metadata": {},
   "outputs": [],
   "source": [
    "cleaned = train.dropna()\n",
    "cleaned.isna().sum()\n"
   ]
  },
  {
   "cell_type": "code",
   "execution_count": null,
   "id": "f71914d8-adf2-4f92-83ae-2f5645b3d297",
   "metadata": {},
   "outputs": [],
   "source": [
    "encoder = OneHotEncoder(sparse_output=False)\n",
    "encoded = np.array(encoder.fit_transform(cleaned[[\"Sex\", \"Embarked\"]]))\n",
    "encoded_name = encoder.get_feature_names_out([\"Sex\", \"Embarked\"])\n",
    "\n",
    "encoded_df = pd.DataFrame(encoded, columns=encoded_name, index=cleaned.index)\n",
    "encoded_df"
   ]
  },
  {
   "cell_type": "code",
   "execution_count": null,
   "id": "2916b800-bb30-4c34-aff1-621e04270313",
   "metadata": {},
   "outputs": [],
   "source": [
    "training = pd.concat([cleaned, encoded_df], axis=1)\n",
    "training.drop(columns=[\"Sex\", \"Embarked\"], inplace=True)\n",
    "training.info()"
   ]
  },
  {
   "cell_type": "code",
   "execution_count": null,
   "id": "139c7400-1d98-41ea-b412-72c317193ed3",
   "metadata": {},
   "outputs": [],
   "source": [
    "training.isna().sum()"
   ]
  },
  {
   "cell_type": "code",
   "execution_count": null,
   "id": "76340acb-cc24-4c2d-a1f6-ba4646d81207",
   "metadata": {},
   "outputs": [],
   "source": [
    "X_train = training.drop(columns=[\"Survived\"])\n",
    "y_train = training[[\"Survived\"]].copy()\n",
    "\n",
    "X_train.shape, y_train.shape"
   ]
  },
  {
   "cell_type": "code",
   "execution_count": null,
   "id": "77b1ca1e-c5e7-4868-9468-4dca1488ab1b",
   "metadata": {},
   "outputs": [],
   "source": [
    "X, y, X_val, y_val = X_train[:600], y_train[:600], X_train[600:], y_train[600:]"
   ]
  },
  {
   "cell_type": "markdown",
   "id": "45ae9057-0471-4ab1-846f-8249a9d0edf8",
   "metadata": {},
   "source": [
    "## 1.2 Create Model"
   ]
  },
  {
   "cell_type": "code",
   "execution_count": null,
   "id": "7f45b207-ecd5-42c3-95ef-20cb1658ed23",
   "metadata": {},
   "outputs": [],
   "source": [
    "model1 = Sequential()\n",
    "model1.add(Dense(64, activation=ReLU(), initializer=HeInitializer(mode=\"Normal\")))\n",
    "model1.add(Dense(32, activation=ReLU(), initializer=HeInitializer(mode=\"Normal\")))\n",
    "model1.add(Dense(10, activation=ReLU(), initializer=HeInitializer(mode=\"Normal\")))\n",
    "model1.add(Dense(1, activation=Sigmoid(), initializer=XavierInitializer(mode=\"Normal\")))\n",
    "\n",
    "\n",
    "model1.compile(loss=BinaryCrossEntropy(), optimizer=Adam(learning_rate=1e-4), metrics=[accuracy])"
   ]
  },
  {
   "cell_type": "code",
   "execution_count": null,
   "id": "244e79cc-d844-4b60-a858-5996577d9796",
   "metadata": {
    "scrolled": true
   },
   "outputs": [],
   "source": [
    "y_pred = model1.predict(X)\n",
    "y_pred[:10]"
   ]
  },
  {
   "cell_type": "code",
   "execution_count": null,
   "id": "0481400b-5e4a-4c1b-af1d-f151415aca2f",
   "metadata": {},
   "outputs": [],
   "source": [
    "accuracy(y, y_pred)"
   ]
  },
  {
   "cell_type": "code",
   "execution_count": null,
   "id": "0efacdd9-3f84-4aa2-add7-c4c975006349",
   "metadata": {
    "scrolled": true
   },
   "outputs": [],
   "source": [
    "model1.fit(X, y, validation_data = [X_val, y_val], epoch=500)"
   ]
  },
  {
   "cell_type": "code",
   "execution_count": null,
   "id": "7ee35de5-596e-4de4-b7bf-8307fd3083b6",
   "metadata": {
    "scrolled": true
   },
   "outputs": [],
   "source": [
    "model1.predict(X_val)"
   ]
  },
  {
   "cell_type": "code",
   "execution_count": null,
   "id": "f4b686d0-967d-4fb6-babd-d6d59760b2d0",
   "metadata": {},
   "outputs": [],
   "source": [
    "accuracy(y_val, model1.predict(X_val))"
   ]
  },
  {
   "cell_type": "markdown",
   "id": "6f52ff42-7188-4405-b008-2c3c5a56380e",
   "metadata": {},
   "source": [
    "## 1.3 Testing Model"
   ]
  },
  {
   "cell_type": "code",
   "execution_count": null,
   "id": "c9a921f0-93c5-429f-9176-c0c4133f9788",
   "metadata": {},
   "outputs": [],
   "source": [
    "test = pd.read_csv(\"datasets\\\\titanic\\\\test.csv\", index_col=\"PassengerId\")\n",
    "test.info()"
   ]
  },
  {
   "cell_type": "code",
   "execution_count": null,
   "id": "960f611d-58ff-4266-b8d9-463fe401b205",
   "metadata": {},
   "outputs": [],
   "source": [
    "test.drop(columns=[\"Cabin\", \"Name\", \"Ticket\"], inplace=True)"
   ]
  },
  {
   "cell_type": "code",
   "execution_count": null,
   "id": "a77992be-554d-4251-861a-36c108430de5",
   "metadata": {},
   "outputs": [],
   "source": [
    "test.isna().sum()"
   ]
  },
  {
   "cell_type": "code",
   "execution_count": null,
   "id": "b35efeca-02f5-465b-b472-ffe477ad393f",
   "metadata": {},
   "outputs": [],
   "source": [
    "imputer = SimpleImputer(strategy=\"mean\")\n",
    "test[[\"Age\"]] = imputer.fit_transform(test[[\"Age\"]])\n",
    "test[[\"Fare\"]] = imputer.fit_transform(test[[\"Fare\"]])\n",
    "\n",
    "test.isna().sum()"
   ]
  },
  {
   "cell_type": "code",
   "execution_count": null,
   "id": "22b35437-4996-4a89-a019-a0e798c0615b",
   "metadata": {},
   "outputs": [],
   "source": [
    "encoder = OneHotEncoder(sparse_output=False)\n",
    "encoded = np.array(encoder.fit_transform(test[[\"Sex\", \"Embarked\"]]))\n",
    "encoded_name = encoder.get_feature_names_out([\"Sex\", \"Embarked\"])\n",
    "\n",
    "encoded_df = pd.DataFrame(encoded, columns=encoded_name, index=test.index)\n",
    "encoded_df"
   ]
  },
  {
   "cell_type": "code",
   "execution_count": null,
   "id": "bfda8dba-e749-48dd-b5c0-2b7f42080bb0",
   "metadata": {},
   "outputs": [],
   "source": [
    "testing = pd.concat([test, encoded_df], axis=1)\n",
    "testing.drop(columns=[\"Sex\", \"Embarked\"], inplace=True)\n",
    "testing.info()"
   ]
  },
  {
   "cell_type": "code",
   "execution_count": null,
   "id": "e0bf3fd1-99fb-427b-808e-65c8de8f2979",
   "metadata": {},
   "outputs": [],
   "source": [
    "testing.shape"
   ]
  },
  {
   "cell_type": "code",
   "execution_count": null,
   "id": "8d2184af-14d5-477e-b4d2-577b5a87b90a",
   "metadata": {},
   "outputs": [],
   "source": [
    "y_pred = model1.predict(testing)\n",
    "y_pred.shape"
   ]
  },
  {
   "cell_type": "code",
   "execution_count": null,
   "id": "c69bf1ac-b1e2-4941-8a8c-c20d89295956",
   "metadata": {},
   "outputs": [],
   "source": [
    "y_true = pd.read_csv(\"datasets\\\\titanic\\\\gender_submission.csv\", index_col=\"PassengerId\")\n",
    "y_true"
   ]
  },
  {
   "cell_type": "code",
   "execution_count": null,
   "id": "a75da3e5-8441-4d30-be16-e788d8130cf6",
   "metadata": {},
   "outputs": [],
   "source": [
    "y_true.shape"
   ]
  },
  {
   "cell_type": "code",
   "execution_count": null,
   "id": "b7209111-e8ad-47f5-9755-193b7675f1c4",
   "metadata": {},
   "outputs": [],
   "source": [
    "print(\"Accuracy: \", accuracy(y_true, y_pred))"
   ]
  },
  {
   "cell_type": "code",
   "execution_count": null,
   "id": "319b27c1-ba12-4c06-a929-86053e7102e6",
   "metadata": {},
   "outputs": [],
   "source": [
    "model1.save_model(\"model1\")"
   ]
  },
  {
   "cell_type": "code",
   "execution_count": null,
   "id": "4bff22eb-99cf-4f5f-9308-2e1dd07ba871",
   "metadata": {},
   "outputs": [],
   "source": [
    "model_test = load_model(\"model1\")"
   ]
  },
  {
   "cell_type": "code",
   "execution_count": null,
   "id": "379e30ae-6274-46fe-bb6e-46d32d428e26",
   "metadata": {},
   "outputs": [],
   "source": [
    "y_pred = model_test.predict(testing)\n",
    "print(\"Accuracy: \", accuracy(y_true, y_pred))"
   ]
  },
  {
   "cell_type": "code",
   "execution_count": null,
   "id": "4d52a8e3-38f8-42bc-a03d-712af18cb4b6",
   "metadata": {
    "scrolled": true
   },
   "outputs": [],
   "source": [
    "y_pred[:10]"
   ]
  },
  {
   "cell_type": "markdown",
   "id": "f04f3d1b-25cf-4c86-83f6-ffe8a7aed0b4",
   "metadata": {},
   "source": [
    "# 2. MNIST"
   ]
  },
  {
   "cell_type": "markdown",
   "id": "b9b90d71-423a-46aa-9f63-3c32cfd33065",
   "metadata": {},
   "source": [
    "## 2.1 Preprocessing"
   ]
  },
  {
   "cell_type": "code",
   "execution_count": null,
   "id": "8405a807-60f8-4244-8f4c-12824b6b0722",
   "metadata": {},
   "outputs": [],
   "source": [
    "import tensorflow as tf\n",
    "\n",
    "(x_train, y_train), (x_test, y_test)= tf.keras.datasets.mnist.load_data()"
   ]
  },
  {
   "cell_type": "code",
   "execution_count": null,
   "id": "32a35e75-1c33-499f-9664-13846081dec0",
   "metadata": {},
   "outputs": [],
   "source": [
    "X_train, X_test, Y_train, Y_test = np.expand_dims(x_train, axis=3), np.expand_dims(x_test, axis=3), np.expand_dims(y_train, axis=1), np.expand_dims(y_test, axis=1)\n",
    "\n",
    "# X_train, Y_train, X_test, Y_test = X_train[:1000], Y_train[:1000], X_test[:100], Y_test[:100]\n",
    "print(X_train.shape, Y_train.shape, X_test.shape, Y_test.shape)"
   ]
  },
  {
   "cell_type": "code",
   "execution_count": null,
   "id": "6ee7e6f5-08e0-4b9d-bae9-8e2dbc7060c7",
   "metadata": {},
   "outputs": [],
   "source": [
    "X_train, X_test = X_train/255, X_test/255"
   ]
  },
  {
   "cell_type": "code",
   "execution_count": null,
   "id": "781e777a-a3a7-4c00-9535-e68454fb0746",
   "metadata": {},
   "outputs": [],
   "source": [
    "plt.imshow(X_train[0])"
   ]
  },
  {
   "cell_type": "code",
   "execution_count": null,
   "id": "b901cc0e-d8b5-4323-9fd1-944302beea0c",
   "metadata": {},
   "outputs": [],
   "source": [
    "plt.hist(Y_train)"
   ]
  },
  {
   "cell_type": "code",
   "execution_count": null,
   "id": "67f56ca1-85dd-41af-bf07-9f5daf872231",
   "metadata": {},
   "outputs": [],
   "source": [
    "new_Y_train = np.zeros((60000, 10))\n",
    "# print(len(Y_train))\n",
    "for i in range(len(Y_train)):\n",
    "    # print(i, Y_train[i][0])\n",
    "    new_Y_train[i, Y_train[i][0]] = 1\n",
    "\n",
    "new_Y_test = np.zeros((10000, 10))\n",
    "# print(len(Y_train))\n",
    "for i in range(len(Y_test)):\n",
    "    # print(i, Y_train[i][0])\n",
    "    new_Y_test[i, Y_test[i][0]] = 1\n",
    "\n",
    "\n",
    "new_Y_train.shape, new_Y_test.shape"
   ]
  },
  {
   "cell_type": "code",
   "execution_count": null,
   "id": "ffafd441-f5ed-4bb2-b93b-1106d8afd261",
   "metadata": {},
   "outputs": [],
   "source": [
    "Y_train, Y_test = new_Y_train, new_Y_test"
   ]
  },
  {
   "cell_type": "markdown",
   "id": "83fb4f97-0c92-449e-a55b-0a82ba8cd561",
   "metadata": {},
   "source": [
    "## 2.2 Create model"
   ]
  },
  {
   "cell_type": "code",
   "execution_count": null,
   "id": "47e6be83-134d-489f-9e02-916358e96708",
   "metadata": {},
   "outputs": [],
   "source": [
    "model2 = Sequential()\n",
    "\n",
    "model2.add(Conv2D(64, 3, activation=ReLU(), initializer=XavierInitializer(mode=\"normal\")))\n",
    "model2.add(MaxPool2D((2, 2)))\n",
    "\n",
    "model2.add(Conv2D(32, 3, activation=ReLU(), initializer=HeInitializer(mode=\"normal\")))\n",
    "model2.add(MaxPool2D((2, 2)))\n",
    "\n",
    "model2.add(Flatten())\n",
    "# model1.add(BatchNormalization())\n",
    "\n",
    "model2.add(Dense(64, ReLU(), initializer=XavierInitializer(mode=\"normal\")))\n",
    "model2.add(Dropout(0.5))\n",
    "model2.add(Dense(32, ReLU(), initializer=XavierInitializer(mode=\"normal\")))\n",
    "model2.add(Dropout(0.5))\n",
    "model2.add(Dense(10, activation=Linear(), initializer=XavierInitializer(mode=\"uniform\")))\n",
    "\n",
    "model2.compile(loss=CategoricalCrossEntropy(), optimizer=Adam(learning_rate=1e-4), metrics=[accuracy, precision, recall])"
   ]
  },
  {
   "cell_type": "code",
   "execution_count": null,
   "id": "068ba818-bf80-4c7f-a1ad-436e876acec8",
   "metadata": {},
   "outputs": [],
   "source": [
    "y_pred = model2.predict(X_test)"
   ]
  },
  {
   "cell_type": "code",
   "execution_count": null,
   "id": "995c65e1-a18b-46d1-a46e-41dbaa7cd986",
   "metadata": {},
   "outputs": [],
   "source": [
    "y_pred[random.choice(range(0, len(y_pred)))]"
   ]
  },
  {
   "cell_type": "code",
   "execution_count": null,
   "id": "d0738402-a827-4fdd-9edf-eeab1d8b6832",
   "metadata": {},
   "outputs": [],
   "source": [
    "accuracy(Y_test, y_pred)"
   ]
  },
  {
   "cell_type": "code",
   "execution_count": null,
   "id": "4fd0076b-4a16-4a0b-969d-0bac5b02c6b4",
   "metadata": {},
   "outputs": [],
   "source": [
    "[np.mean(np.abs(model2.layers[i].W)) for i in range(len(model2.layers)) if model2.layers[i].trainable]"
   ]
  },
  {
   "cell_type": "code",
   "execution_count": null,
   "id": "17166243-7c63-493e-877f-f90b8df8e970",
   "metadata": {},
   "outputs": [],
   "source": [
    "plt.hist(y_pred.reshape(-1), 100)\n",
    "plt.show()"
   ]
  },
  {
   "cell_type": "code",
   "execution_count": null,
   "id": "a31e9e02-fd63-494d-aeb7-1becebb9b60e",
   "metadata": {
    "scrolled": true
   },
   "outputs": [],
   "source": [
    "model2.fit(X_train, Y_train, epoch=10, batch_size=128, validation_data=(X_test, Y_test))"
   ]
  },
  {
   "cell_type": "markdown",
   "id": "d895f811-5e74-4d01-90f0-1f2e3be84413",
   "metadata": {},
   "source": [
    "## 2.3 Testing"
   ]
  },
  {
   "cell_type": "code",
   "execution_count": null,
   "id": "b3dd8504-a866-42ba-bae5-64b46adfbd5b",
   "metadata": {},
   "outputs": [],
   "source": [
    "random_num = random.choice(range(len(X_test)))\n",
    "X_rand = X_test[random_num]\n",
    "plt.imshow(X_rand)\n",
    "plt.show()\n",
    "\n",
    "X_rand = np.expand_dims(X_rand, axis=0)\n",
    "# print(X_rand.shape)\n",
    "print(f\"Prediction: {np.argmax(model2.predict(X_rand))}\")"
   ]
  },
  {
   "cell_type": "code",
   "execution_count": null,
   "id": "12e95134-22ad-40e3-bc8b-e277feaa1bc5",
   "metadata": {},
   "outputs": [],
   "source": [
    "Y_pred = model2.predict(X_test)"
   ]
  },
  {
   "cell_type": "code",
   "execution_count": null,
   "id": "9e6016b1-b53a-41a8-9bf1-5b19b49be0e3",
   "metadata": {
    "scrolled": true
   },
   "outputs": [],
   "source": [
    "Y_pred"
   ]
  },
  {
   "cell_type": "code",
   "execution_count": null,
   "id": "d5e2fdee-aabd-4141-9245-5bdfdd9ea8af",
   "metadata": {},
   "outputs": [],
   "source": [
    "accuracy(Y_pred, Y_test)"
   ]
  },
  {
   "cell_type": "code",
   "execution_count": null,
   "id": "3c5b858a-dba3-4584-8436-458acd70c8ed",
   "metadata": {},
   "outputs": [],
   "source": [
    "model2.save_model(\"model2\")"
   ]
  },
  {
   "cell_type": "code",
   "execution_count": null,
   "id": "b7709199-8b2d-471c-9149-64bf2c655f13",
   "metadata": {},
   "outputs": [],
   "source": [
    "model_test2 = load_model(\"model2\")"
   ]
  },
  {
   "cell_type": "code",
   "execution_count": null,
   "id": "4c3f0511-be9d-49e8-9cea-b1e86c1448b7",
   "metadata": {},
   "outputs": [],
   "source": [
    "random_num = random.choice(range(len(X_test)))\n",
    "X_rand = X_test[random_num]\n",
    "plt.imshow(X_rand)\n",
    "plt.show()\n",
    "\n",
    "X_rand = np.expand_dims(X_rand, axis=0)\n",
    "# print(X_rand.shape)\n",
    "print(f\"Prediction: {np.argmax(model_test2.predict(X_rand))}\")"
   ]
  }
 ],
 "metadata": {
  "kernelspec": {
   "display_name": "Python 3 (ipykernel)",
   "language": "python",
   "name": "python3"
  },
  "language_info": {
   "codemirror_mode": {
    "name": "ipython",
    "version": 3
   },
   "file_extension": ".py",
   "mimetype": "text/x-python",
   "name": "python",
   "nbconvert_exporter": "python",
   "pygments_lexer": "ipython3",
   "version": "3.8.20"
  }
 },
 "nbformat": 4,
 "nbformat_minor": 5
}
