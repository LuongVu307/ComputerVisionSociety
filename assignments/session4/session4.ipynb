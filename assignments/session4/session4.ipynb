{
 "cells": [
  {
   "cell_type": "markdown",
   "id": "3dcdce7d-d320-4d08-b24e-8da522ffbb64",
   "metadata": {},
   "source": [
    "## 1. Preprocess"
   ]
  },
  {
   "cell_type": "code",
   "execution_count": null,
   "id": "ca3deae2-a1ae-40e4-8305-6f06079e7e02",
   "metadata": {},
   "outputs": [],
   "source": [
    "import tensorflow as tf\n",
    "import numpy as np\n",
    "import matplotlib.pyplot as plt\n",
    "import cv2\n",
    "\n",
    "(x_train, y_train), (x_test, y_test)= tf.keras.datasets.mnist.load_data()"
   ]
  },
  {
   "cell_type": "code",
   "execution_count": null,
   "id": "08eb0aa6-0959-4847-8f2c-3243ae532bea",
   "metadata": {},
   "outputs": [],
   "source": [
    "X_train, X_test, Y_train, Y_test = np.expand_dims(x_train, axis=3), np.expand_dims(x_test, axis=3), np.expand_dims(y_train, axis=1), np.expand_dims(y_test, axis=1)\n",
    "\n",
    "# X_train, Y_train, X_test, Y_test = X_train[:1000], Y_train[:1000], X_test[:100], Y_test[:100]\n",
    "print(X_train.shape, Y_train.shape, X_test.shape, Y_test.shape)"
   ]
  },
  {
   "cell_type": "code",
   "execution_count": null,
   "id": "9544398f-1049-4a50-871c-2093609f3709",
   "metadata": {},
   "outputs": [],
   "source": [
    "X_train, X_test = X_train/255, X_test/255"
   ]
  },
  {
   "cell_type": "code",
   "execution_count": null,
   "id": "0fa88db6-5589-43c4-9781-addd96171d1e",
   "metadata": {},
   "outputs": [],
   "source": [
    "plt.imshow(X_train[0])"
   ]
  },
  {
   "cell_type": "code",
   "execution_count": null,
   "id": "a5138b0a-0ed1-4244-9267-237c06f51740",
   "metadata": {},
   "outputs": [],
   "source": [
    "new_Y_train = np.zeros((60000, 10))\n",
    "# print(len(Y_train))\n",
    "for i in range(len(Y_train)):\n",
    "    # print(i, Y_train[i][0])\n",
    "    new_Y_train[i, Y_train[i][0]] = 1\n",
    "\n",
    "new_Y_test = np.zeros((10000, 10))\n",
    "# print(len(Y_train))\n",
    "for i in range(len(Y_test)):\n",
    "    # print(i, Y_train[i][0])\n",
    "    new_Y_test[i, Y_test[i][0]] = 1\n",
    "\n",
    "\n",
    "new_Y_train.shape, new_Y_test.shape"
   ]
  },
  {
   "cell_type": "code",
   "execution_count": null,
   "id": "db77857d-68d7-4117-9a85-d56a5a8726e7",
   "metadata": {},
   "outputs": [],
   "source": [
    "Y_train, Y_test = new_Y_train, new_Y_test"
   ]
  },
  {
   "cell_type": "code",
   "execution_count": null,
   "id": "eec5706a-3ab3-4354-9b1a-81d8af9cfe03",
   "metadata": {},
   "outputs": [],
   "source": [
    "import os\n",
    "\n",
    "while os.getcwd().split(\"\\\\\")[-1].lower not in [\"computervisionsoc\", \"computervisionsociety\"]:\n",
    "    os.chdir(\"..\")\n",
    "\n",
    "os.getcwd()"
   ]
  },
  {
   "cell_type": "code",
   "execution_count": null,
   "id": "4abc9ca4-98b1-425e-a956-624243685c28",
   "metadata": {},
   "outputs": [],
   "source": [
    "samples = []\n",
    "for img in os.listdir(\"datasets/sample_image\"):\n",
    "    image = cv2.imread(\"datasets/sample_image/\"+img)\n",
    "    image = cv2.cvtColor(image, cv2.COLOR_BGR2RGB)\n",
    "    image = cv2.resize(image, (224, 224)) \n",
    "\n",
    "    samples.append(image)\n",
    "\n",
    "len(samples)"
   ]
  },
  {
   "cell_type": "code",
   "execution_count": null,
   "id": "db95b7a6-160c-4d18-ae17-1e26498ee77f",
   "metadata": {},
   "outputs": [],
   "source": [
    "plt.imshow(samples[np.random.randint(0, 20)])\n",
    "plt.show()"
   ]
  },
  {
   "cell_type": "markdown",
   "id": "74d10d9b-98c0-4b09-900f-0ad00c99b9c0",
   "metadata": {},
   "source": [
    "## 2. Convolutional filters"
   ]
  },
  {
   "cell_type": "code",
   "execution_count": null,
   "id": "cbb93483-c38d-46b5-a834-5d1a1fd56728",
   "metadata": {},
   "outputs": [],
   "source": [
    "edge_detection = np.array([[-1, 0, 1],\n",
    "                    [-2, 0, 2],\n",
    "                    [-1, 0, 1]])\n",
    "blurring = np.array([[1, 2, 1],\n",
    "                      [2, 4, 2],\n",
    "                      [1, 2, 1]]) / 16\n",
    "\n",
    "sharpening = np.array([[ 0, -1,  0],\n",
    "                       [-1,  5, -1],\n",
    "                       [ 0, -1,  0]])\n",
    "\n",
    "embossing = np.array([[-2, -1,  0],\n",
    "                   [-1,  1,  1],\n",
    "                   [ 0,  1,  2]])\n"
   ]
  },
  {
   "cell_type": "code",
   "execution_count": null,
   "id": "19a48e4a-944a-49c2-abd2-bdb38991c6fd",
   "metadata": {},
   "outputs": [],
   "source": [
    "rand_img = samples[np.random.randint(0, 20)]\n",
    "rand_img = rand_img/255\n",
    "# rand_img = X_train[np.random.randint(1, len(X_train))]\n",
    "kernel = blurring\n",
    "\n",
    "\n",
    "# plt.imshow(rand_img)\n",
    "filtered = cv2.filter2D(rand_img, -1, kernel)\n",
    "plt.subplot(1,2,1), plt.imshow(rand_img, cmap='gray'), plt.title(\"Original\")\n",
    "plt.subplot(1,2,2), plt.imshow(filtered, cmap='gray'), plt.title(\"Filtered\")\n",
    "plt.show()"
   ]
  },
  {
   "cell_type": "code",
   "execution_count": null,
   "id": "34b7a53b-8d09-41be-9a90-807531a5c675",
   "metadata": {},
   "outputs": [],
   "source": [
    "def apply_filter(image, kernel, padding=\"same\"):\n",
    "    # Get image and kernel dimensions\n",
    "    img_height, img_width, num_channels = image.shape\n",
    "    kernel_height, kernel_width = kernel.shape\n",
    "\n",
    "    # Determine padding size\n",
    "    if padding == \"same\":\n",
    "        pad_height = (kernel_height - 1) // 2\n",
    "        pad_width = (kernel_width - 1) // 2\n",
    "        padded_image = np.pad(image, ((pad_height, pad_height), (pad_width, pad_width), (0, 0)), mode=\"constant\", constant_values=0)\n",
    "    else:\n",
    "        padded_image = image\n",
    "\n",
    "    # Output image (same shape as input)\n",
    "    output_img = np.zeros_like(image)\n",
    "\n",
    "    # Convolve the image with the kernel\n",
    "    for i in range(img_height):\n",
    "        for j in range(img_width):\n",
    "            # Define the region of interest (3x3 in this case)\n",
    "            region = padded_image[i:i + kernel_height, j:j + kernel_width, :]\n",
    "            \n",
    "            # Apply the kernel to the region (element-wise multiplication and sum)\n",
    "            output_img[i, j] = np.sum(region * kernel[:, :, None], axis=(0, 1))  # Sum over kernel height and width\n",
    "\n",
    "    return output_img\n",
    "\n",
    "filtered = (apply_filter(rand_img, kernel, \"same\"))\n",
    "plt.subplot(1,2,1), plt.imshow(rand_img, cmap='gray'), plt.title(\"Original\")\n",
    "plt.subplot(1,2,2), plt.imshow(filtered, cmap='gray'), plt.title(\"Filtered\")\n",
    "plt.show()"
   ]
  },
  {
   "cell_type": "markdown",
   "id": "7881cc2a-d146-4b00-91ab-b962b11cdb60",
   "metadata": {},
   "source": [
    "## 3. Pooling layers"
   ]
  },
  {
   "cell_type": "code",
   "execution_count": null,
   "id": "c1c0855b-8386-4836-9c8f-543e7da447b9",
   "metadata": {},
   "outputs": [],
   "source": [
    "def max_pooling(img, pool_size=2, stride=2):\n",
    "    h, w = img.shape[:2]  # Get the height and width of the image\n",
    "    out_h = (h - pool_size) // stride + 1\n",
    "    out_w = (w - pool_size) // stride + 1\n",
    "    pooled_img = np.zeros((out_h, out_w, img.shape[-1]))  # Output image after pooling\n",
    "\n",
    "    for i in range(0, out_h):\n",
    "        for j in range(0, out_w):\n",
    "            region = img[i*stride:i*stride+pool_size, j*stride:j*stride+pool_size, :]\n",
    "            # print(pooled_img[i, j].shape, np.max(region, axis=(0, 1)).shape)\n",
    "            pooled_img[i, j] = np.max(region, axis=(0, 1))  # Apply MaxPooling\n",
    "    \n",
    "    return pooled_img\n",
    "\n",
    "def avg_pooling(img, pool_size=2, stride=2):\n",
    "    h, w = img.shape[:2]\n",
    "    out_h = (h - pool_size) // stride + 1\n",
    "    out_w = (w - pool_size) // stride + 1\n",
    "    pooled_img = np.zeros((out_h, out_w, img.shape[-1]))\n",
    "\n",
    "    for i in range(0, out_h):\n",
    "        for j in range(0, out_w):\n",
    "            region = img[i*stride:i*stride+pool_size, j*stride:j*stride+pool_size, :]\n",
    "            # print(pooled_img[i, j].shape, np.mean(region, axis=(0, 1)).shape)\n",
    "            pooled_img[i, j] = np.mean(region, axis=(0, 1))  # Apply AveragePooling\n",
    "    \n",
    "    return pooled_img\n"
   ]
  },
  {
   "cell_type": "code",
   "execution_count": null,
   "id": "67f35087-2a0b-4ff8-8962-e6b303d03041",
   "metadata": {},
   "outputs": [],
   "source": [
    "rand_img = samples[np.random.randint(0, 20)]\n",
    "rand_img = rand_img/255\n",
    "# rand_img = X_train[np.random.randint(1, len(X_train))]\n",
    "\n",
    "pooled = avg_pooling(rand_img, 5, 5)\n",
    "\n",
    "# plt.imshow(rand_img)\n",
    "plt.subplot(1,2,1), plt.imshow(rand_img, cmap='gray'), plt.title(\"Original\")\n",
    "plt.subplot(1,2,2), plt.imshow(pooled, cmap='gray'), plt.title(\"Pooled\")\n",
    "plt.show()"
   ]
  }
 ],
 "metadata": {
  "kernelspec": {
   "display_name": "Python 3 (ipykernel)",
   "language": "python",
   "name": "python3"
  },
  "language_info": {
   "codemirror_mode": {
    "name": "ipython",
    "version": 3
   },
   "file_extension": ".py",
   "mimetype": "text/x-python",
   "name": "python",
   "nbconvert_exporter": "python",
   "pygments_lexer": "ipython3",
   "version": "3.8.20"
  }
 },
 "nbformat": 4,
 "nbformat_minor": 5
}
